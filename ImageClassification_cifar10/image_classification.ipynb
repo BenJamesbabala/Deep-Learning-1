{
 "cells": [
  {
   "cell_type": "markdown",
   "metadata": {
    "collapsed": true,
    "deletable": true,
    "editable": true
   },
   "source": [
    "# Image Classification\n",
    "In this project, we'll classify images from the [CIFAR-10 dataset](https://www.cs.toronto.edu/~kriz/cifar.html).  The dataset consists of airplanes, dogs, cats, and other objects. we'll preprocess the images, then train a convolutional neural network on all the samples. The images need to be normalized and the labels need to be one-hot encoded.  we'll build a convolutional, max pooling, dropout, and fully connected layers.  At the end, we'll get to see your neural network's predictions on the sample images.\n",
    "## Get the Data\n",
    "Run the following cell to download the [CIFAR-10 dataset for python](https://www.cs.toronto.edu/~kriz/cifar-10-python.tar.gz)."
   ]
  },
  {
   "cell_type": "code",
   "execution_count": 2,
   "metadata": {
    "collapsed": false,
    "deletable": true,
    "editable": true
   },
   "outputs": [
    {
     "name": "stdout",
     "output_type": "stream",
     "text": [
      "All files found!\n"
     ]
    }
   ],
   "source": [
    "from urllib.request import urlretrieve\n",
    "from os.path import isfile, isdir\n",
    "from tqdm import tqdm\n",
    "import problem_unittests as tests\n",
    "import tarfile\n",
    "\n",
    "cifar10_dataset_folder_path = 'cifar-10-batches-py'\n",
    "\n",
    "# Use Floyd's cifar-10 dataset if present\n",
    "floyd_cifar10_location = '/input/cifar-10/python.tar.gz'\n",
    "if isfile(floyd_cifar10_location):\n",
    "    tar_gz_path = floyd_cifar10_location\n",
    "else:\n",
    "    tar_gz_path = 'cifar-10-python.tar.gz'\n",
    "\n",
    "class DLProgress(tqdm):\n",
    "    last_block = 0\n",
    "\n",
    "    def hook(self, block_num=1, block_size=1, total_size=None):\n",
    "        self.total = total_size\n",
    "        self.update((block_num - self.last_block) * block_size)\n",
    "        self.last_block = block_num\n",
    "\n",
    "if not isfile(tar_gz_path):\n",
    "    with DLProgress(unit='B', unit_scale=True, miniters=1, desc='CIFAR-10 Dataset') as pbar:\n",
    "        urlretrieve(\n",
    "            'https://www.cs.toronto.edu/~kriz/cifar-10-python.tar.gz',\n",
    "            tar_gz_path,\n",
    "            pbar.hook)\n",
    "\n",
    "if not isdir(cifar10_dataset_folder_path):\n",
    "    with tarfile.open(tar_gz_path) as tar:\n",
    "        tar.extractall()\n",
    "        tar.close()\n",
    "\n",
    "\n",
    "tests.test_folder_path(cifar10_dataset_folder_path)"
   ]
  },
  {
   "cell_type": "markdown",
   "metadata": {
    "deletable": true,
    "editable": true
   },
   "source": [
    "## Explore the Data\n",
    "The dataset is broken into batches to prevent your machine from running out of memory.  The CIFAR-10 dataset consists of 5 batches, named `data_batch_1`, `data_batch_2`, etc.. Each batch contains the labels and images that are one of the following:\n",
    "* airplane\n",
    "* automobile\n",
    "* bird\n",
    "* cat\n",
    "* deer\n",
    "* dog\n",
    "* frog\n",
    "* horse\n",
    "* ship\n",
    "* truck\n",
    "\n",
    "Understanding a dataset is part of making predictions on the data.  Play around with the code cell below by changing the `batch_id` and `sample_id`. The `batch_id` is the id for a batch (1-5). The `sample_id` is the id for a image and label pair in the batch.\n",
    "\n",
    "Ask yourself \"What are all possible labels?\", \"What is the range of values for the image data?\", \"Are the labels in order or random?\".  Answers to questions like these will help you preprocess the data and end up with better predictions."
   ]
  },
  {
   "cell_type": "code",
   "execution_count": 3,
   "metadata": {
    "collapsed": false,
    "deletable": true,
    "editable": true
   },
   "outputs": [
    {
     "name": "stdout",
     "output_type": "stream",
     "text": [
      "\n",
      "Stats of batch 1:\n",
      "Samples: 10000\n",
      "Label Counts: {0: 1005, 1: 974, 2: 1032, 3: 1016, 4: 999, 5: 937, 6: 1030, 7: 1001, 8: 1025, 9: 981}\n",
      "First 20 Labels: [6, 9, 9, 4, 1, 1, 2, 7, 8, 3, 4, 7, 7, 2, 9, 9, 9, 3, 2, 6]\n",
      "\n",
      "Example of Image 5:\n",
      "Image - Min Value: 0 Max Value: 252\n",
      "Image - Shape: (32, 32, 3)\n",
      "Label - Label Id: 1 Name: automobile\n"
     ]
    },
    {
     "data": {
      "image/png": "[encoded data removed]",
      "text/plain": [
       "<matplotlib.figure.Figure at 0x7faf009c3b00>"
      ]
     },
     "metadata": {
      "image/png": {
       "height": 250,
       "width": 253
      }
     },
     "output_type": "display_data"
    }
   ],
   "source": [
    "%matplotlib inline\n",
    "%config InlineBackend.figure_format = 'retina'\n",
    "\n",
    "import helper\n",
    "import numpy as np\n",
    "\n",
    "# Explore the dataset\n",
    "batch_id = 1\n",
    "sample_id = 5\n",
    "helper.display_stats(cifar10_dataset_folder_path, batch_id, sample_id)"
   ]
  },
  {
   "cell_type": "markdown",
   "metadata": {
    "deletable": true,
    "editable": true
   },
   "source": [
    "## Implement Preprocess Functions\n",
    "### Normalize\n",
    "In the cell below, `normalize` function  take in image data, `x`, and return it as a normalized Numpy array. The values is  in the range of 0 to 1, inclusive.  The return object is the same shape as `x`."
   ]
  },
  {
   "cell_type": "code",
   "execution_count": 4,
   "metadata": {
    "collapsed": false,
    "deletable": true,
    "editable": true
   },
   "outputs": [
    {
     "name": "stdout",
     "output_type": "stream",
     "text": [
      "Tests Passed\n"
     ]
    }
   ],
   "source": [
    "def normalize(x):\n",
    "    \"\"\"\n",
    "    Normalize a list of sample image data in the range of 0 to 1\n",
    "    : x: List of image data.  The image shape is (32, 32, 3)\n",
    "    : return: Numpy array of normalize data\n",
    "    \"\"\"\n",
    "    # TODO: Implement Function\n",
    "    #print(x.shape)\n",
    "    normalized_images=np.zeros((x.shape))\n",
    "    nbr_images=x.shape[0]\n",
    "    min_image,max_image=x.min(),x.max()\n",
    "    #print(max_image)\n",
    "    for image in range(nbr_images):\n",
    "        normalized_images[image,...]=((x[image,...]-min_image)-float(min_image))/(float(max_image-min_image))\n",
    "    return normalized_images\n",
    "\n",
    "\n",
    "\n",
    "tests.test_normalize(normalize)"
   ]
  },
  {
   "cell_type": "markdown",
   "metadata": {
    "deletable": true,
    "editable": true
   },
   "source": [
    "### One-hot encode\n",
    "Just like the previous code cell, we'll be implementing a function for preprocessing.  This time, we'll implement the `one_hot_encode` function. The input, `x`, are a list of labels.  Function returns the list of labels as One-Hot encoded Numpy array.  The possible values for labels are 0 to 9. The one-hot encoding function  return the same encoding for each value between each call to `one_hot_encode`. "
   ]
  },
  {
   "cell_type": "code",
   "execution_count": 5,
   "metadata": {
    "collapsed": false,
    "deletable": true,
    "editable": true
   },
   "outputs": [
    {
     "name": "stdout",
     "output_type": "stream",
     "text": [
      "Tests Passed\n"
     ]
    }
   ],
   "source": [
    "from sklearn.preprocessing import OneHotEncoder\n",
    "from sklearn import preprocessing\n",
    "lb=None\n",
    "def one_hot_encode(x):\n",
    "    \"\"\"\n",
    "    One hot encode a list of sample labels. Return a one-hot encoded vector for each label.\n",
    "    : x: List of sample Labels\n",
    "    : return: Numpy array of one-hot encoded labels\n",
    "    \"\"\"\n",
    "    # TODO: Implement Function\n",
    "    \n",
    "    global lb\n",
    "    if lb is None:\n",
    "        lb = preprocessing.LabelBinarizer()\n",
    "        lb.fit(x)\n",
    "    encodings = lb.transform(x)\n",
    "    return encodings\n",
    "\n",
    "\n",
    "\n",
    "tests.test_one_hot_encode(one_hot_encode)"
   ]
  },
  {
   "cell_type": "markdown",
   "metadata": {
    "deletable": true,
    "editable": true
   },
   "source": [
    "## Preprocess all the data and save it\n",
    "Running the code cell below will preprocess all the CIFAR-10 data and save it to file. The code below also uses 10% of the training data for validation."
   ]
  },
  {
   "cell_type": "code",
   "execution_count": 6,
   "metadata": {
    "collapsed": false,
    "deletable": true,
    "editable": true
   },
   "outputs": [],
   "source": [
    "\n",
    "# Preprocess Training, Validation, and Testing Data\n",
    "helper.preprocess_and_save_data(cifar10_dataset_folder_path, normalize, one_hot_encode)"
   ]
  },
  {
   "cell_type": "markdown",
   "metadata": {
    "deletable": true,
    "editable": true
   },
   "source": [
    "# Check Point\n",
    "This is your first checkpoint.  If you ever decide to come back to this notebook or have to restart the notebook, you can start from here.  The preprocessed data has been saved to disk."
   ]
  },
  {
   "cell_type": "code",
   "execution_count": 7,
   "metadata": {
    "collapsed": true,
    "deletable": true,
    "editable": true
   },
   "outputs": [],
   "source": [
    "\n",
    "import pickle\n",
    "import problem_unittests as tests\n",
    "import helper\n",
    "\n",
    "# Load the Preprocessed Validation data\n",
    "valid_features, valid_labels = pickle.load(open('preprocess_validation.p', mode='rb'))"
   ]
  },
  {
   "cell_type": "markdown",
   "metadata": {
    "deletable": true,
    "editable": true
   },
   "source": [
    "## Build the network\n",
    "For the neural network, we'll build each layer into a function. \n",
    "\n",
    "Let's begin!\n",
    "\n",
    "### Input\n",
    "The neural network needs to read the image data, one-hot encoded labels, and dropout keep probability. we'll Implement the following functions\n",
    "*  `neural_net_image_input`\n",
    " * Return a [TF Placeholder](https://www.tensorflow.org/api_docs/python/tf/placeholder)\n",
    " * Set the shape using `image_shape` with batch size set to `None`.\n",
    " * Name the TensorFlow placeholder \"x\" using the TensorFlow `name` parameter in the [TF Placeholder](https://www.tensorflow.org/api_docs/python/tf/placeholder).\n",
    "*  `neural_net_label_input`\n",
    " * Return a [TF Placeholder](https://www.tensorflow.org/api_docs/python/tf/placeholder)\n",
    " * Set the shape using `n_classes` with batch size set to `None`.\n",
    " * Name the TensorFlow placeholder \"y\" using the TensorFlow `name` parameter in the [TF Placeholder](https://www.tensorflow.org/api_docs/python/tf/placeholder).\n",
    "*  `neural_net_keep_prob_input`\n",
    " * Return a [TF Placeholder](https://www.tensorflow.org/api_docs/python/tf/placeholder) for dropout keep probability.\n",
    " * Name the TensorFlow placeholder \"keep_prob\" using the TensorFlow `name` parameter in the [TF Placeholder](https://www.tensorflow.org/api_docs/python/tf/placeholder).\n",
    "\n",
    "These names will be used at the end of the project to load your saved model.\n",
    "\n",
    "Note: `None` for shapes in TensorFlow allow for a dynamic size."
   ]
  },
  {
   "cell_type": "code",
   "execution_count": 8,
   "metadata": {
    "collapsed": false,
    "deletable": true,
    "editable": true
   },
   "outputs": [
    {
     "name": "stdout",
     "output_type": "stream",
     "text": [
      "Image Input Tests Passed.\n",
      "Label Input Tests Passed.\n",
      "Keep Prob Tests Passed.\n"
     ]
    }
   ],
   "source": [
    "import tensorflow as tf\n",
    "\n",
    "def neural_net_image_input(image_shape):\n",
    "    \"\"\"\n",
    "    Return a Tensor for a batch of image input\n",
    "    : image_shape: Shape of the images\n",
    "    : return: Tensor for image input.\n",
    "    \"\"\"\n",
    "    # TODO: Implement Function\n",
    "    \n",
    "    return tf.placeholder(tf.float32, shape=[None]+list(image_shape),name=\"x\")\n",
    "\n",
    "\n",
    "def neural_net_label_input(n_classes):\n",
    "    \"\"\"\n",
    "    Return a Tensor for a batch of label input\n",
    "    : n_classes: Number of classes\n",
    "    : return: Tensor for label input.\n",
    "    \"\"\"\n",
    "    # TODO: Implement Function\n",
    "   \n",
    "    #print(n_classes)\n",
    "    return  tf.placeholder(tf.float32, shape=[None,n_classes],name=\"y\")\n",
    "\n",
    "\n",
    "def neural_net_keep_prob_input():\n",
    "    \"\"\"\n",
    "    Return a Tensor for keep probability\n",
    "    : return: Tensor for keep probability.\n",
    "    \"\"\"\n",
    "    # TODO: Implement Function\n",
    "    return  tf.placeholder(tf.float32, shape=(None),name=\"keep_prob\")\n",
    "\n",
    "\n",
    "\n",
    "tf.reset_default_graph()\n",
    "tests.test_nn_image_inputs(neural_net_image_input)\n",
    "tests.test_nn_label_inputs(neural_net_label_input)\n",
    "tests.test_nn_keep_prob_inputs(neural_net_keep_prob_input)"
   ]
  },
  {
   "cell_type": "markdown",
   "metadata": {
    "deletable": true,
    "editable": true
   },
   "source": [
    "### Convolution and Max Pooling Layer\n",
    "Convolution layers have a lot of success with images. For this code cell, we'll  implement the function `conv2d_maxpool` to apply convolution then max pooling:\n",
    "* Create the weight and bias using `conv_ksize`, `conv_num_outputs` and the shape of `x_tensor`.\n",
    "* Apply a convolution to `x_tensor` using weight and `conv_strides`.\n",
    "* Add bias\n",
    "* Add a nonlinear activation to the convolution.\n",
    "* Apply Max Pooling using `pool_ksize` and `pool_strides`."
   ]
  },
  {
   "cell_type": "code",
   "execution_count": 9,
   "metadata": {
    "collapsed": false,
    "deletable": true,
    "editable": true
   },
   "outputs": [
    {
     "name": "stdout",
     "output_type": "stream",
     "text": [
      "5\n",
      "Tests Passed\n"
     ]
    }
   ],
   "source": [
    "def conv2d_maxpool(x_tensor, conv_num_outputs, conv_ksize, conv_strides, pool_ksize, pool_strides):\n",
    "    \"\"\"\n",
    "    Apply convolution then max pooling to x_tensor\n",
    "    :param x_tensor: TensorFlow Tensor\n",
    "    :param conv_num_outputs: Number of outputs for the convolutional layer\n",
    "    :param conv_ksize: kernal size 2-D Tuple for the convolutional layer\n",
    "    :param conv_strides: Stride 2-D Tuple for convolution\n",
    "    :param pool_ksize: kernal size 2-D Tuple for pool\n",
    "    :param pool_strides: Stride 2-D Tuple for pool\n",
    "    : return: A tensor that represents convolution and max pooling of x_tensor\n",
    "    \"\"\"\n",
    "    # TODO: Implement Function\n",
    "    shape=[conv_ksize[0], conv_ksize[1], ((x_tensor.get_shape())[3]), conv_num_outputs]\n",
    "    print((list(x_tensor.get_shape())[3]))\n",
    "    weights =tf.Variable(tf.truncated_normal([conv_ksize[0], conv_ksize[1], x_tensor.get_shape().as_list()[3], conv_num_outputs],\n",
    "                                            mean=0.0,stddev = .1))\n",
    "    bias=tf.Variable(tf.zeros(conv_num_outputs))\n",
    "    \n",
    "    \n",
    "    x = tf.nn.conv2d(x_tensor, weights, strides=[1, conv_strides[0], conv_strides[1], 1], padding='SAME')\n",
    "    x = tf.nn.bias_add(x, bias)\n",
    "    x=  tf.nn.relu(x)\n",
    "    \n",
    "    output=tf.nn.max_pool(\n",
    "        x,\n",
    "        ksize=[1, pool_ksize[0], pool_ksize[1], 1],\n",
    "        strides=[1, pool_strides[0], pool_strides[1], 1],\n",
    "        padding='SAME')\n",
    "    return output \n",
    "\n",
    "\n",
    "\n",
    "tests.test_con_pool(conv2d_maxpool)"
   ]
  },
  {
   "cell_type": "markdown",
   "metadata": {
    "deletable": true,
    "editable": true
   },
   "source": [
    "### Flatten Layer\n",
    "Here we'll Implement the `flatten` function to change the dimension of `x_tensor` from a 4-D tensor to a 2-D tensor.  The output should be the shape (*Batch Size*, *Flattened Image Size*). Shortcut option: you can use classes from the [TensorFlow Layers](https://www.tensorflow.org/api_docs/python/tf/layers) or [TensorFlow Layers (contrib)](https://www.tensorflow.org/api_guides/python/contrib.layers) packages for this layer."
   ]
  },
  {
   "cell_type": "code",
   "execution_count": 10,
   "metadata": {
    "collapsed": false,
    "deletable": true,
    "editable": true
   },
   "outputs": [
    {
     "name": "stdout",
     "output_type": "stream",
     "text": [
      "Tests Passed\n"
     ]
    }
   ],
   "source": [
    "def flatten(x_tensor):\n",
    "    \"\"\"\n",
    "    Flatten x_tensor to (Batch Size, Flattened Image Size)\n",
    "    : x_tensor: A tensor of size (Batch Size, ...), where ... are the image dimensions.\n",
    "    : return: A tensor of size (Batch Size, Flattened Image Size).\n",
    "    \"\"\"\n",
    "    # TODO: Implement Function\n",
    "    x_tensor_shape=( x_tensor.get_shape().as_list())\n",
    "    x_tensor_ht=x_tensor_shape[1]\n",
    "    x_tensor_wt=x_tensor_shape[2]\n",
    "    x_tensor_channels=x_tensor_shape[3]\n",
    "    pool2_flat = tf.reshape(x_tensor, [-1, x_tensor_ht *x_tensor_wt*x_tensor_channels])\n",
    "    return pool2_flat\n",
    "\n",
    "\n",
    "\n",
    "tests.test_flatten(flatten)"
   ]
  },
  {
   "cell_type": "markdown",
   "metadata": {
    "deletable": true,
    "editable": true
   },
   "source": [
    "### Fully-Connected Layer\n",
    "IHere we'll mplement the `fully_conn` function to apply a fully connected layer to `x_tensor` with the shape (*Batch Size*, *num_outputs*). Shortcut option: you can use classes from the [TensorFlow Layers](https://www.tensorflow.org/api_docs/python/tf/layers) or [TensorFlow Layers (contrib)](https://www.tensorflow.org/api_guides/python/contrib.layers) packages for this layer."
   ]
  },
  {
   "cell_type": "code",
   "execution_count": 11,
   "metadata": {
    "collapsed": false,
    "deletable": true,
    "editable": true
   },
   "outputs": [
    {
     "name": "stdout",
     "output_type": "stream",
     "text": [
      "Tests Passed\n"
     ]
    }
   ],
   "source": [
    "def fully_conn(x_tensor, num_outputs):\n",
    "    \"\"\"\n",
    "    Apply a fully connected layer to x_tensor using weight and bias\n",
    "    : x_tensor: A 2-D tensor where the first dimension is batch size.\n",
    "    : num_outputs: The number of output that the new tensor should be.\n",
    "    : return: A 2-D tensor where the second dimension is num_outputs.\n",
    "    \"\"\"\n",
    "    \n",
    "    # TODO: Implement Function\n",
    "    x_tensor_shape=np.array(x_tensor.get_shape().as_list()[1:]).prod()\n",
    "    \n",
    "    weights =tf.Variable(tf.truncated_normal([x_tensor_shape, num_outputs],mean=0.0,stddev = .1))\n",
    "    biases=tf.Variable(tf.zeros(num_outputs))\n",
    "    c1 = tf.add(tf.matmul(x_tensor, weights), biases)\n",
    "    \n",
    "    c1 = tf.nn.relu(c1)\n",
    "    \n",
    "    return c1\n",
    "\n",
    "\n",
    "\n",
    "tests.test_fully_conn(fully_conn)"
   ]
  },
  {
   "cell_type": "markdown",
   "metadata": {
    "deletable": true,
    "editable": true
   },
   "source": [
    "### Output Layer\n",
    "we'll Implement the `output` function to apply a fully connected layer to `x_tensor` with the shape (*Batch Size*, *num_outputs*). Shortcut option: you can use classes from the [TensorFlow Layers](https://www.tensorflow.org/api_docs/python/tf/layers) or [TensorFlow Layers (contrib)](https://www.tensorflow.org/api_guides/python/contrib.layers) packages for this layer. For more of a challenge, only use other TensorFlow packages.\n",
    "\n"
   ]
  },
  {
   "cell_type": "code",
   "execution_count": 12,
   "metadata": {
    "collapsed": false,
    "deletable": true,
    "editable": true
   },
   "outputs": [
    {
     "name": "stdout",
     "output_type": "stream",
     "text": [
      "128\n",
      "Tests Passed\n"
     ]
    }
   ],
   "source": [
    "def output(x_tensor, num_outputs):\n",
    "    \"\"\"\n",
    "    Apply a output layer to x_tensor using weight and bias\n",
    "    : x_tensor: A 2-D tensor where the first dimension is batch size.\n",
    "    : num_outputs: The number of output that the new tensor should be.\n",
    "    : return: A 2-D tensor where the second dimension is num_outputs.\n",
    "    \"\"\"\n",
    "    # TODO: Implement Function\n",
    "    x_tensor_shape=np.array(x_tensor.get_shape().as_list()[1:]).prod()\n",
    "    print(x_tensor_shape)\n",
    "    weights =tf.Variable(tf.truncated_normal([x_tensor_shape, num_outputs],mean=0.0,stddev = .1))\n",
    "    biases=tf.Variable(tf.zeros(num_outputs))\n",
    "    c1 = tf.add(tf.matmul(x_tensor, weights), biases)\n",
    "    return c1\n",
    "\n",
    "\n",
    "\n",
    "tests.test_output(output)"
   ]
  },
  {
   "cell_type": "markdown",
   "metadata": {
    "deletable": true,
    "editable": true
   },
   "source": [
    "### Create Convolutional Model\n",
    "we'll Implement the function `conv_net` to create a convolutional neural network model. The function takes in a batch of images, `x`, and outputs logits.  Use the layers you created above to create this model:\n",
    "\n",
    "* Apply 1, 2, or 3 Convolution and Max Pool layers\n",
    "* Apply a Flatten Layer\n",
    "* Apply 1, 2, or 3 Fully Connected Layers\n",
    "* Apply an Output Layer\n",
    "* Return the output\n",
    "* Apply [TensorFlow's Dropout](https://www.tensorflow.org/api_docs/python/tf/nn/dropout) to one or more layers in the model using `keep_prob`. "
   ]
  },
  {
   "cell_type": "code",
   "execution_count": 13,
   "metadata": {
    "collapsed": false,
    "deletable": true,
    "editable": true
   },
   "outputs": [
    {
     "name": "stdout",
     "output_type": "stream",
     "text": [
      "3\n",
      "16\n",
      "250\n",
      "3\n",
      "16\n",
      "250\n",
      "Neural Network Built!\n"
     ]
    }
   ],
   "source": [
    "def conv_net(x, keep_prob):\n",
    "    \"\"\"\n",
    "    Create a convolutional neural network model\n",
    "    : x: Placeholder tensor that holds image data.\n",
    "    : keep_prob: Placeholder tensor that hold dropout keep probability.\n",
    "    : return: Tensor that represents logits\n",
    "    \"\"\"\n",
    "    # TODO: Apply 1, 2, or 3 Convolution and Max Pool layers\n",
    "    #    Play around with different number of outputs, kernel size and stride\n",
    "    # Function Definition from Above:\n",
    "    #    conv2d_maxpool(x_tensor, conv_num_outputs, conv_ksize, conv_strides, pool_ksize, pool_strides)\n",
    "    conv = conv2d_maxpool(x,\n",
    "                           conv_num_outputs=16,\n",
    "                           conv_ksize=[5,5],\n",
    "                           conv_strides=[1,1],\n",
    "                           pool_ksize=[3,3],\n",
    "                           pool_strides=[2,2])\n",
    "    \n",
    "    conv = conv2d_maxpool(conv,\n",
    "                           conv_num_outputs=32,\n",
    "                           conv_ksize=[5,5],\n",
    "                           conv_strides=[1,1],\n",
    "                           pool_ksize=[3,3],\n",
    "                           pool_strides=[2,2])\n",
    "    \n",
    "#     conv = conv2d_maxpool(conv,\n",
    "#                             conv_num_outputs=64,\n",
    "#                             conv_ksize=[5,5],\n",
    "#                             conv_strides=[1,1],\n",
    "#                             pool_ksize=[3,3],\n",
    "#                             pool_strides=[2,2])\n",
    "    \n",
    "    # TODO: Apply a Flatten Layer\n",
    "    # Function Definition from Above:\n",
    "    #   flatten(x_tensor)\n",
    "    flattened=flatten(conv)\n",
    "\n",
    "    # TODO: Apply 1, 2, or 3 Fully Connected Layers\n",
    "    #    Play around with different number of outputs\n",
    "    # Function Definition from Above:\n",
    "    #   fully_conn(x_tensor, num_outputs)\n",
    "    fully_c= fully_conn(flattened,512)\n",
    "    fully_c= fully_conn(fully_c,250)\n",
    "    #fully_c= fully_conn(fully_c,50)\n",
    "    \n",
    "    # TODO: Apply an Output Layer\n",
    "    #    Set this to the number of classes\n",
    "    # Function Definition from Above:\n",
    "    #   output(x_tensor, num_outputs)\n",
    "    fully_c=tf.nn.dropout(fully_c,keep_prob)\n",
    "    output_cn=output(fully_c, 10)\n",
    "    \n",
    "    \n",
    "    # TODO: return output\n",
    "    return output_cn\n",
    "\n",
    "\n",
    "\n",
    "\n",
    "##############################\n",
    "## Build the Neural Network ##\n",
    "##############################\n",
    "\n",
    "# Remove previous weights, bias, inputs, etc..\n",
    "tf.reset_default_graph()\n",
    "\n",
    "# Inputs\n",
    "x = neural_net_image_input((32, 32, 3))\n",
    "y = neural_net_label_input(10)\n",
    "keep_prob = neural_net_keep_prob_input()\n",
    "\n",
    "# Model\n",
    "logits = conv_net(x, keep_prob)\n",
    "\n",
    "# Name logits Tensor, so that is can be loaded from disk after training\n",
    "logits = tf.identity(logits, name='logits')\n",
    "\n",
    "# Loss and Optimizer\n",
    "cost = tf.reduce_mean(tf.nn.softmax_cross_entropy_with_logits(logits=logits, labels=y))\n",
    "optimizer = tf.train.AdamOptimizer().minimize(cost)\n",
    "\n",
    "# Accuracy\n",
    "correct_pred = tf.equal(tf.argmax(logits, 1), tf.argmax(y, 1))\n",
    "accuracy = tf.reduce_mean(tf.cast(correct_pred, tf.float32), name='accuracy')\n",
    "\n",
    "tests.test_conv_net(conv_net)"
   ]
  },
  {
   "cell_type": "markdown",
   "metadata": {
    "deletable": true,
    "editable": true
   },
   "source": [
    "## Train the Neural Network\n",
    "### Single Optimization\n",
    "We'll Implement the function `train_neural_network` to do a single optimization.  The optimization should use `optimizer` to optimize in `session` with a `feed_dict` of the following:\n",
    "* `x` for image input\n",
    "* `y` for labels\n",
    "* `keep_prob` for keep probability for dropout\n",
    "\n",
    "This function will be called for each batch, so `tf.global_variables_initializer()` has already been called.\n",
    "\n",
    "Note: Nothing needs to be returned. This function is only optimizing the neural network."
   ]
  },
  {
   "cell_type": "code",
   "execution_count": 14,
   "metadata": {
    "collapsed": false,
    "deletable": true,
    "editable": true
   },
   "outputs": [
    {
     "name": "stdout",
     "output_type": "stream",
     "text": [
      "Tests Passed\n"
     ]
    }
   ],
   "source": [
    "def train_neural_network(session, optimizer, keep_probability, feature_batch, label_batch):\n",
    "    \"\"\"\n",
    "    Optimize the session on a batch of images and labels\n",
    "    : session: Current TensorFlow session\n",
    "    : optimizer: TensorFlow optimizer function\n",
    "    : keep_probability: keep probability\n",
    "    : feature_batch: Batch of Numpy image data\n",
    "    : label_batch: Batch of Numpy label data\n",
    "    \"\"\"\n",
    "    # TODO: Implement Function\n",
    "    session.run(optimizer, feed_dict={\n",
    "                    x: feature_batch,\n",
    "                    y: label_batch,\n",
    "                keep_prob: keep_probability})\n",
    "        \n",
    "        \n",
    "    \n",
    "\n",
    "\n",
    "tests.test_train_nn(train_neural_network)"
   ]
  },
  {
   "cell_type": "markdown",
   "metadata": {
    "deletable": true,
    "editable": true
   },
   "source": [
    "### Show Stats\n",
    "We'll Implement the function `print_stats` to print loss and validation accuracy. We'll Use the global variables `valid_features` and `valid_labels` to calculate validation accuracy.  Use a keep probability of `1.0` to calculate the loss and validation accuracy."
   ]
  },
  {
   "cell_type": "code",
   "execution_count": 15,
   "metadata": {
    "collapsed": false,
    "deletable": true,
    "editable": true
   },
   "outputs": [],
   "source": [
    "def print_stats(session, feature_batch, label_batch, cost, accuracy):\n",
    "    \"\"\"\n",
    "    Print information about loss and validation accuracy\n",
    "    : session: Current TensorFlow session\n",
    "    : feature_batch: Batch of Numpy image data\n",
    "    : label_batch: Batch of Numpy label data\n",
    "    : cost: TensorFlow cost function\n",
    "    : accuracy: TensorFlow accuracy function\n",
    "    \"\"\"\n",
    "    # TODO: Implement Function\n",
    "    loss=sess.run(cost,feed_dict={x:valid_features,\n",
    "                            y:valid_labels,\n",
    "                            keep_prob:1})\n",
    "    \n",
    "    valid_acc=sess.run(accuracy,feed_dict={x:valid_features,\n",
    "                            y:valid_labels,\n",
    "                            keep_prob:1})\n",
    "    \n",
    "    print('Loss: {:>10.4f} Validation Accuracy: {:.6f}'.format(loss, valid_acc))\n",
    "    "
   ]
  },
  {
   "cell_type": "markdown",
   "metadata": {
    "deletable": true,
    "editable": true
   },
   "source": [
    "### Hyperparameters\n",
    "We'll Tune the following parameters:\n",
    "* Set `epochs` to the number of iterations until the network stops learning or start overfitting\n",
    "* Set `batch_size` to the highest number that your machine has memory for.  Most people set them to common sizes of memory:\n",
    " * 64\n",
    " * 128\n",
    " * 256\n",
    " * ...\n",
    "* Set `keep_probability` to the probability of keeping a node using dropout"
   ]
  },
  {
   "cell_type": "code",
   "execution_count": 18,
   "metadata": {
    "collapsed": true,
    "deletable": true,
    "editable": true
   },
   "outputs": [],
   "source": [
    "# TODO: Tune Parameters\n",
    "epochs = 75\n",
    "batch_size = 256\n",
    "keep_probability = .75"
   ]
  },
  {
   "cell_type": "markdown",
   "metadata": {
    "deletable": true,
    "editable": true
   },
   "source": [
    "### Train on a Single CIFAR-10 Batch\n",
    "Instead of training the neural network on all the CIFAR-10 batches of data, let's use a single batch. This should save time while you iterate on the model to get a better accuracy.  Once the final validation accuracy is 50% or greater, run the model on all the data in the next section."
   ]
  },
  {
   "cell_type": "code",
   "execution_count": 20,
   "metadata": {
    "collapsed": false,
    "deletable": true,
    "editable": true
   },
   "outputs": [
    {
     "name": "stdout",
     "output_type": "stream",
     "text": [
      "Checking the Training on a Single Batch...\n",
      "Epoch  1, CIFAR-10 Batch 1:  Loss:     1.9453 Validation Accuracy: 0.319400\n",
      "Epoch  2, CIFAR-10 Batch 1:  Loss:     1.6291 Validation Accuracy: 0.410600\n",
      "Epoch  3, CIFAR-10 Batch 1:  Loss:     1.5037 Validation Accuracy: 0.453200\n",
      "Epoch  4, CIFAR-10 Batch 1:  Loss:     1.4132 Validation Accuracy: 0.493600\n",
      "Epoch  5, CIFAR-10 Batch 1:  Loss:     1.3927 Validation Accuracy: 0.514200\n",
      "Epoch  6, CIFAR-10 Batch 1:  Loss:     1.3337 Validation Accuracy: 0.527400\n",
      "Epoch  7, CIFAR-10 Batch 1:  Loss:     1.3034 Validation Accuracy: 0.537200\n",
      "Epoch  8, CIFAR-10 Batch 1:  Loss:     1.3498 Validation Accuracy: 0.525200\n",
      "Epoch  9, CIFAR-10 Batch 1:  Loss:     1.3351 Validation Accuracy: 0.540600\n",
      "Epoch 10, CIFAR-10 Batch 1:  Loss:     1.3110 Validation Accuracy: 0.549400\n",
      "Epoch 11, CIFAR-10 Batch 1:  Loss:     1.3274 Validation Accuracy: 0.541800\n",
      "Epoch 12, CIFAR-10 Batch 1:  Loss:     1.3446 Validation Accuracy: 0.546400\n",
      "Epoch 13, CIFAR-10 Batch 1:  Loss:     1.3870 Validation Accuracy: 0.540400\n",
      "Epoch 14, CIFAR-10 Batch 1:  Loss:     1.4308 Validation Accuracy: 0.541000\n",
      "Epoch 15, CIFAR-10 Batch 1:  Loss:     1.4158 Validation Accuracy: 0.550000\n",
      "Epoch 16, CIFAR-10 Batch 1:  Loss:     1.4125 Validation Accuracy: 0.565800\n",
      "Epoch 17, CIFAR-10 Batch 1:  Loss:     1.4593 Validation Accuracy: 0.560000\n",
      "Epoch 18, CIFAR-10 Batch 1:  Loss:     1.4545 Validation Accuracy: 0.555800\n",
      "Epoch 19, CIFAR-10 Batch 1:  Loss:     1.6217 Validation Accuracy: 0.526800\n",
      "Epoch 20, CIFAR-10 Batch 1:  Loss:     1.6108 Validation Accuracy: 0.543200\n",
      "Epoch 21, CIFAR-10 Batch 1:  Loss:     1.5684 Validation Accuracy: 0.560000\n",
      "Epoch 22, CIFAR-10 Batch 1:  Loss:     1.7514 Validation Accuracy: 0.534400\n",
      "Epoch 23, CIFAR-10 Batch 1:  Loss:     1.7895 Validation Accuracy: 0.540800\n",
      "Epoch 24, CIFAR-10 Batch 1:  Loss:     1.6858 Validation Accuracy: 0.556400\n",
      "Epoch 25, CIFAR-10 Batch 1:  Loss:     1.7469 Validation Accuracy: 0.546000\n",
      "Epoch 26, CIFAR-10 Batch 1:  Loss:     1.8842 Validation Accuracy: 0.552000\n",
      "Epoch 27, CIFAR-10 Batch 1:  Loss:     1.9133 Validation Accuracy: 0.549800\n",
      "Epoch 28, CIFAR-10 Batch 1:  Loss:     1.8369 Validation Accuracy: 0.578600\n",
      "Epoch 29, CIFAR-10 Batch 1:  Loss:     1.9627 Validation Accuracy: 0.580600\n",
      "Epoch 30, CIFAR-10 Batch 1:  Loss:     2.3553 Validation Accuracy: 0.547600\n",
      "Epoch 31, CIFAR-10 Batch 1:  Loss:     2.1859 Validation Accuracy: 0.564600\n",
      "Epoch 32, CIFAR-10 Batch 1:  Loss:     2.1143 Validation Accuracy: 0.574000\n",
      "Epoch 33, CIFAR-10 Batch 1:  Loss:     2.3696 Validation Accuracy: 0.548600\n",
      "Epoch 34, CIFAR-10 Batch 1:  Loss:     2.2448 Validation Accuracy: 0.568200\n",
      "Epoch 35, CIFAR-10 Batch 1:  Loss:     2.3524 Validation Accuracy: 0.555800\n",
      "Epoch 36, CIFAR-10 Batch 1:  Loss:     2.3916 Validation Accuracy: 0.562600\n",
      "Epoch 37, CIFAR-10 Batch 1:  Loss:     2.3851 Validation Accuracy: 0.569200\n",
      "Epoch 38, CIFAR-10 Batch 1:  Loss:     2.4926 Validation Accuracy: 0.555800\n",
      "Epoch 39, CIFAR-10 Batch 1:  Loss:     2.5082 Validation Accuracy: 0.554000\n",
      "Epoch 40, CIFAR-10 Batch 1:  Loss:     2.5586 Validation Accuracy: 0.553800\n",
      "Epoch 41, CIFAR-10 Batch 1:  Loss:     2.5286 Validation Accuracy: 0.570800\n",
      "Epoch 42, CIFAR-10 Batch 1:  Loss:     2.5486 Validation Accuracy: 0.566600\n",
      "Epoch 43, CIFAR-10 Batch 1:  Loss:     2.4552 Validation Accuracy: 0.569000\n",
      "Epoch 44, CIFAR-10 Batch 1:  Loss:     2.6058 Validation Accuracy: 0.552200\n",
      "Epoch 45, CIFAR-10 Batch 1:  Loss:     2.5882 Validation Accuracy: 0.554000\n",
      "Epoch 46, CIFAR-10 Batch 1:  Loss:     2.7108 Validation Accuracy: 0.542200\n",
      "Epoch 47, CIFAR-10 Batch 1:  Loss:     2.5673 Validation Accuracy: 0.564800\n",
      "Epoch 48, CIFAR-10 Batch 1:  Loss:     2.7328 Validation Accuracy: 0.554400\n",
      "Epoch 49, CIFAR-10 Batch 1:  Loss:     2.7590 Validation Accuracy: 0.544400\n",
      "Epoch 50, CIFAR-10 Batch 1:  Loss:     3.0196 Validation Accuracy: 0.534200\n",
      "Epoch 51, CIFAR-10 Batch 1:  Loss:     2.6753 Validation Accuracy: 0.562600\n",
      "Epoch 52, CIFAR-10 Batch 1:  Loss:     2.8396 Validation Accuracy: 0.542000\n",
      "Epoch 53, CIFAR-10 Batch 1:  Loss:     2.9521 Validation Accuracy: 0.541800\n",
      "Epoch 54, CIFAR-10 Batch 1:  Loss:     2.6771 Validation Accuracy: 0.575800\n",
      "Epoch 55, CIFAR-10 Batch 1:  Loss:     2.7127 Validation Accuracy: 0.579600\n",
      "Epoch 56, CIFAR-10 Batch 1:  Loss:     2.7345 Validation Accuracy: 0.585200\n",
      "Epoch 57, CIFAR-10 Batch 1:  Loss:     2.8376 Validation Accuracy: 0.588800\n",
      "Epoch 58, CIFAR-10 Batch 1:  Loss:     2.9677 Validation Accuracy: 0.581600\n",
      "Epoch 59, CIFAR-10 Batch 1:  Loss:     2.9451 Validation Accuracy: 0.586400\n",
      "Epoch 60, CIFAR-10 Batch 1:  Loss:     2.9684 Validation Accuracy: 0.584000\n",
      "Epoch 61, CIFAR-10 Batch 1:  Loss:     3.0246 Validation Accuracy: 0.584600\n",
      "Epoch 62, CIFAR-10 Batch 1:  Loss:     2.9269 Validation Accuracy: 0.584400\n",
      "Epoch 63, CIFAR-10 Batch 1:  Loss:     3.0627 Validation Accuracy: 0.581600\n",
      "Epoch 64, CIFAR-10 Batch 1:  Loss:     3.0016 Validation Accuracy: 0.587600\n",
      "Epoch 65, CIFAR-10 Batch 1:  Loss:     3.0332 Validation Accuracy: 0.583200\n",
      "Epoch 66, CIFAR-10 Batch 1:  Loss:     3.1667 Validation Accuracy: 0.585600\n",
      "Epoch 67, CIFAR-10 Batch 1:  Loss:     3.0713 Validation Accuracy: 0.581000\n",
      "Epoch 68, CIFAR-10 Batch 1:  Loss:     3.1346 Validation Accuracy: 0.580200\n",
      "Epoch 69, CIFAR-10 Batch 1:  Loss:     3.1963 Validation Accuracy: 0.571200\n",
      "Epoch 70, CIFAR-10 Batch 1:  Loss:     3.0929 Validation Accuracy: 0.585000\n",
      "Epoch 71, CIFAR-10 Batch 1:  Loss:     3.2740 Validation Accuracy: 0.583800\n",
      "Epoch 72, CIFAR-10 Batch 1:  Loss:     3.1692 Validation Accuracy: 0.585200\n",
      "Epoch 73, CIFAR-10 Batch 1:  Loss:     3.2710 Validation Accuracy: 0.577600\n",
      "Epoch 74, CIFAR-10 Batch 1:  Loss:     3.1355 Validation Accuracy: 0.584000\n",
      "Epoch 75, CIFAR-10 Batch 1:  Loss:     3.1333 Validation Accuracy: 0.580400\n"
     ]
    }
   ],
   "source": [
    "\n",
    "print('Checking the Training on a Single Batch...')\n",
    "with tf.Session() as sess:\n",
    "    # Initializing the variables\n",
    "    sess.run(tf.global_variables_initializer())\n",
    "    \n",
    "    # Training cycle\n",
    "    for epoch in range(epochs):\n",
    "        batch_i = 1\n",
    "        for batch_features, batch_labels in helper.load_preprocess_training_batch(batch_i, batch_size):\n",
    "            train_neural_network(sess, optimizer, keep_probability, batch_features, batch_labels)\n",
    "        print('Epoch {:>2}, CIFAR-10 Batch {}:  '.format(epoch + 1, batch_i), end='')\n",
    "        print_stats(sess, batch_features, batch_labels, cost, accuracy)"
   ]
  },
  {
   "cell_type": "markdown",
   "metadata": {
    "deletable": true,
    "editable": true
   },
   "source": [
    "### Fully Train the Model\n",
    "Now that you got a good accuracy with a single CIFAR-10 batch, try it with all five batches."
   ]
  },
  {
   "cell_type": "code",
   "execution_count": 21,
   "metadata": {
    "collapsed": false,
    "deletable": true,
    "editable": true
   },
   "outputs": [
    {
     "name": "stdout",
     "output_type": "stream",
     "text": [
      "Training...\n",
      "Epoch  1, CIFAR-10 Batch 1:  Loss:     1.8815 Validation Accuracy: 0.334600\n",
      "Epoch  1, CIFAR-10 Batch 2:  Loss:     1.6022 Validation Accuracy: 0.410600\n",
      "Epoch  1, CIFAR-10 Batch 3:  Loss:     1.5636 Validation Accuracy: 0.427200\n",
      "Epoch  1, CIFAR-10 Batch 4:  Loss:     1.4260 Validation Accuracy: 0.480200\n",
      "Epoch  1, CIFAR-10 Batch 5:  Loss:     1.3706 Validation Accuracy: 0.504400\n",
      "Epoch  2, CIFAR-10 Batch 1:  Loss:     1.3705 Validation Accuracy: 0.503200\n",
      "Epoch  2, CIFAR-10 Batch 2:  Loss:     1.2763 Validation Accuracy: 0.545800\n",
      "Epoch  2, CIFAR-10 Batch 3:  Loss:     1.3518 Validation Accuracy: 0.512800\n",
      "Epoch  2, CIFAR-10 Batch 4:  Loss:     1.2208 Validation Accuracy: 0.570400\n",
      "Epoch  2, CIFAR-10 Batch 5:  Loss:     1.2468 Validation Accuracy: 0.557000\n",
      "Epoch  3, CIFAR-10 Batch 1:  Loss:     1.2572 Validation Accuracy: 0.555400\n",
      "Epoch  3, CIFAR-10 Batch 2:  Loss:     1.2234 Validation Accuracy: 0.574400\n",
      "Epoch  3, CIFAR-10 Batch 3:  Loss:     1.1662 Validation Accuracy: 0.590600\n",
      "Epoch  3, CIFAR-10 Batch 4:  Loss:     1.1412 Validation Accuracy: 0.596600\n",
      "Epoch  3, CIFAR-10 Batch 5:  Loss:     1.1484 Validation Accuracy: 0.599800\n",
      "Epoch  4, CIFAR-10 Batch 1:  Loss:     1.1268 Validation Accuracy: 0.600600\n",
      "Epoch  4, CIFAR-10 Batch 2:  Loss:     1.1021 Validation Accuracy: 0.618600\n",
      "Epoch  4, CIFAR-10 Batch 3:  Loss:     1.0746 Validation Accuracy: 0.619000\n",
      "Epoch  4, CIFAR-10 Batch 4:  Loss:     1.1201 Validation Accuracy: 0.616200\n",
      "Epoch  4, CIFAR-10 Batch 5:  Loss:     1.0672 Validation Accuracy: 0.626800\n",
      "Epoch  5, CIFAR-10 Batch 1:  Loss:     1.1006 Validation Accuracy: 0.617600\n",
      "Epoch  5, CIFAR-10 Batch 2:  Loss:     1.0743 Validation Accuracy: 0.626200\n",
      "Epoch  5, CIFAR-10 Batch 3:  Loss:     1.0350 Validation Accuracy: 0.638200\n",
      "Epoch  5, CIFAR-10 Batch 4:  Loss:     1.1137 Validation Accuracy: 0.616800\n",
      "Epoch  5, CIFAR-10 Batch 5:  Loss:     1.0008 Validation Accuracy: 0.652800\n",
      "Epoch  6, CIFAR-10 Batch 1:  Loss:     1.0510 Validation Accuracy: 0.636200\n",
      "Epoch  6, CIFAR-10 Batch 2:  Loss:     1.0332 Validation Accuracy: 0.645600\n",
      "Epoch  6, CIFAR-10 Batch 3:  Loss:     1.0279 Validation Accuracy: 0.649400\n",
      "Epoch  6, CIFAR-10 Batch 4:  Loss:     1.0645 Validation Accuracy: 0.637400\n",
      "Epoch  6, CIFAR-10 Batch 5:  Loss:     1.0421 Validation Accuracy: 0.641600\n",
      "Epoch  7, CIFAR-10 Batch 1:  Loss:     1.0115 Validation Accuracy: 0.654200\n",
      "Epoch  7, CIFAR-10 Batch 2:  Loss:     1.0392 Validation Accuracy: 0.644800\n",
      "Epoch  7, CIFAR-10 Batch 3:  Loss:     1.0306 Validation Accuracy: 0.651600\n",
      "Epoch  7, CIFAR-10 Batch 4:  Loss:     1.0606 Validation Accuracy: 0.643400\n",
      "Epoch  7, CIFAR-10 Batch 5:  Loss:     1.0284 Validation Accuracy: 0.657800\n",
      "Epoch  8, CIFAR-10 Batch 1:  Loss:     1.0259 Validation Accuracy: 0.658600\n",
      "Epoch  8, CIFAR-10 Batch 2:  Loss:     1.0513 Validation Accuracy: 0.651800\n",
      "Epoch  8, CIFAR-10 Batch 3:  Loss:     1.0068 Validation Accuracy: 0.668800\n",
      "Epoch  8, CIFAR-10 Batch 4:  Loss:     1.0267 Validation Accuracy: 0.653200\n",
      "Epoch  8, CIFAR-10 Batch 5:  Loss:     1.0319 Validation Accuracy: 0.660400\n",
      "Epoch  9, CIFAR-10 Batch 1:  Loss:     1.0865 Validation Accuracy: 0.642200\n",
      "Epoch  9, CIFAR-10 Batch 2:  Loss:     1.0563 Validation Accuracy: 0.661400\n",
      "Epoch  9, CIFAR-10 Batch 3:  Loss:     1.0288 Validation Accuracy: 0.656600\n",
      "Epoch  9, CIFAR-10 Batch 4:  Loss:     1.0281 Validation Accuracy: 0.668400\n",
      "Epoch  9, CIFAR-10 Batch 5:  Loss:     1.0338 Validation Accuracy: 0.669000\n",
      "Epoch 10, CIFAR-10 Batch 1:  Loss:     1.1744 Validation Accuracy: 0.630400\n",
      "Epoch 10, CIFAR-10 Batch 2:  Loss:     1.0790 Validation Accuracy: 0.659600\n",
      "Epoch 10, CIFAR-10 Batch 3:  Loss:     1.2478 Validation Accuracy: 0.596400\n",
      "Epoch 10, CIFAR-10 Batch 4:  Loss:     1.0905 Validation Accuracy: 0.656800\n",
      "Epoch 10, CIFAR-10 Batch 5:  Loss:     1.0399 Validation Accuracy: 0.669600\n",
      "Epoch 11, CIFAR-10 Batch 1:  Loss:     1.0691 Validation Accuracy: 0.658600\n",
      "Epoch 11, CIFAR-10 Batch 2:  Loss:     1.0974 Validation Accuracy: 0.657800\n",
      "Epoch 11, CIFAR-10 Batch 3:  Loss:     1.1919 Validation Accuracy: 0.633200\n",
      "Epoch 11, CIFAR-10 Batch 4:  Loss:     1.1101 Validation Accuracy: 0.653000\n",
      "Epoch 11, CIFAR-10 Batch 5:  Loss:     1.1639 Validation Accuracy: 0.649600\n",
      "Epoch 12, CIFAR-10 Batch 1:  Loss:     1.0961 Validation Accuracy: 0.647600\n",
      "Epoch 12, CIFAR-10 Batch 2:  Loss:     1.1924 Validation Accuracy: 0.645400\n",
      "Epoch 12, CIFAR-10 Batch 3:  Loss:     1.1331 Validation Accuracy: 0.661200\n",
      "Epoch 12, CIFAR-10 Batch 4:  Loss:     1.1520 Validation Accuracy: 0.648000\n",
      "Epoch 12, CIFAR-10 Batch 5:  Loss:     1.2593 Validation Accuracy: 0.634400\n",
      "Epoch 13, CIFAR-10 Batch 1:  Loss:     1.3286 Validation Accuracy: 0.619200\n",
      "Epoch 13, CIFAR-10 Batch 2:  Loss:     1.2352 Validation Accuracy: 0.638400\n",
      "Epoch 13, CIFAR-10 Batch 3:  Loss:     1.1805 Validation Accuracy: 0.656800\n",
      "Epoch 13, CIFAR-10 Batch 4:  Loss:     1.2211 Validation Accuracy: 0.654600\n",
      "Epoch 13, CIFAR-10 Batch 5:  Loss:     1.3316 Validation Accuracy: 0.643400\n",
      "Epoch 14, CIFAR-10 Batch 1:  Loss:     1.2525 Validation Accuracy: 0.641000\n",
      "Epoch 14, CIFAR-10 Batch 2:  Loss:     1.3460 Validation Accuracy: 0.631200\n",
      "Epoch 14, CIFAR-10 Batch 3:  Loss:     1.3029 Validation Accuracy: 0.640000\n",
      "Epoch 14, CIFAR-10 Batch 4:  Loss:     1.1861 Validation Accuracy: 0.660200\n",
      "Epoch 14, CIFAR-10 Batch 5:  Loss:     1.3200 Validation Accuracy: 0.650200\n",
      "Epoch 15, CIFAR-10 Batch 1:  Loss:     1.3201 Validation Accuracy: 0.638200\n",
      "Epoch 15, CIFAR-10 Batch 2:  Loss:     1.3726 Validation Accuracy: 0.637400\n",
      "Epoch 15, CIFAR-10 Batch 3:  Loss:     1.2654 Validation Accuracy: 0.649000\n",
      "Epoch 15, CIFAR-10 Batch 4:  Loss:     1.3279 Validation Accuracy: 0.638200\n",
      "Epoch 15, CIFAR-10 Batch 5:  Loss:     1.4150 Validation Accuracy: 0.646000\n",
      "Epoch 16, CIFAR-10 Batch 1:  Loss:     1.3063 Validation Accuracy: 0.655200\n",
      "Epoch 16, CIFAR-10 Batch 2:  Loss:     1.2876 Validation Accuracy: 0.650600\n",
      "Epoch 16, CIFAR-10 Batch 3:  Loss:     1.2099 Validation Accuracy: 0.667400\n",
      "Epoch 16, CIFAR-10 Batch 4:  Loss:     1.4229 Validation Accuracy: 0.638800\n",
      "Epoch 16, CIFAR-10 Batch 5:  Loss:     1.4131 Validation Accuracy: 0.648400\n",
      "Epoch 17, CIFAR-10 Batch 1:  Loss:     1.4170 Validation Accuracy: 0.660000\n",
      "Epoch 17, CIFAR-10 Batch 2:  Loss:     1.3962 Validation Accuracy: 0.642800\n",
      "Epoch 17, CIFAR-10 Batch 3:  Loss:     1.2833 Validation Accuracy: 0.654400\n",
      "Epoch 17, CIFAR-10 Batch 4:  Loss:     1.3916 Validation Accuracy: 0.649600\n",
      "Epoch 17, CIFAR-10 Batch 5:  Loss:     1.4361 Validation Accuracy: 0.648000\n",
      "Epoch 18, CIFAR-10 Batch 1:  Loss:     1.4687 Validation Accuracy: 0.652200\n",
      "Epoch 18, CIFAR-10 Batch 2:  Loss:     1.4597 Validation Accuracy: 0.640600\n",
      "Epoch 18, CIFAR-10 Batch 3:  Loss:     1.3905 Validation Accuracy: 0.645600\n",
      "Epoch 18, CIFAR-10 Batch 4:  Loss:     1.3993 Validation Accuracy: 0.657400\n",
      "Epoch 18, CIFAR-10 Batch 5:  Loss:     1.4195 Validation Accuracy: 0.662400\n",
      "Epoch 19, CIFAR-10 Batch 1:  Loss:     1.5199 Validation Accuracy: 0.656600\n",
      "Epoch 19, CIFAR-10 Batch 2:  Loss:     1.5435 Validation Accuracy: 0.631200\n",
      "Epoch 19, CIFAR-10 Batch 3:  Loss:     1.4847 Validation Accuracy: 0.641200\n",
      "Epoch 19, CIFAR-10 Batch 4:  Loss:     1.4084 Validation Accuracy: 0.664200\n",
      "Epoch 19, CIFAR-10 Batch 5:  Loss:     1.5331 Validation Accuracy: 0.661600\n",
      "Epoch 20, CIFAR-10 Batch 1:  Loss:     1.5942 Validation Accuracy: 0.646600\n",
      "Epoch 20, CIFAR-10 Batch 2:  Loss:     1.6731 Validation Accuracy: 0.625400\n",
      "Epoch 20, CIFAR-10 Batch 3:  Loss:     1.5722 Validation Accuracy: 0.640200\n",
      "Epoch 20, CIFAR-10 Batch 4:  Loss:     1.5142 Validation Accuracy: 0.659600\n",
      "Epoch 20, CIFAR-10 Batch 5:  Loss:     1.6341 Validation Accuracy: 0.653600\n",
      "Epoch 21, CIFAR-10 Batch 1:  Loss:     1.6401 Validation Accuracy: 0.640800\n",
      "Epoch 21, CIFAR-10 Batch 2:  Loss:     1.7011 Validation Accuracy: 0.639400\n",
      "Epoch 21, CIFAR-10 Batch 3:  Loss:     1.6529 Validation Accuracy: 0.645400\n",
      "Epoch 21, CIFAR-10 Batch 4:  Loss:     1.6274 Validation Accuracy: 0.661200\n",
      "Epoch 21, CIFAR-10 Batch 5:  Loss:     1.7441 Validation Accuracy: 0.653600\n",
      "Epoch 22, CIFAR-10 Batch 1:  Loss:     1.6736 Validation Accuracy: 0.652200\n",
      "Epoch 22, CIFAR-10 Batch 2:  Loss:     1.6464 Validation Accuracy: 0.657800\n",
      "Epoch 22, CIFAR-10 Batch 3:  Loss:     1.7144 Validation Accuracy: 0.646400\n",
      "Epoch 22, CIFAR-10 Batch 4:  Loss:     1.6894 Validation Accuracy: 0.658400\n",
      "Epoch 22, CIFAR-10 Batch 5:  Loss:     1.8249 Validation Accuracy: 0.660600\n",
      "Epoch 23, CIFAR-10 Batch 1:  Loss:     1.6878 Validation Accuracy: 0.653600\n",
      "Epoch 23, CIFAR-10 Batch 2:  Loss:     1.6565 Validation Accuracy: 0.651000\n",
      "Epoch 23, CIFAR-10 Batch 3:  Loss:     1.7832 Validation Accuracy: 0.638800\n",
      "Epoch 23, CIFAR-10 Batch 4:  Loss:     1.7259 Validation Accuracy: 0.660600\n",
      "Epoch 23, CIFAR-10 Batch 5:  Loss:     1.8615 Validation Accuracy: 0.660000\n",
      "Epoch 24, CIFAR-10 Batch 1:  Loss:     1.9457 Validation Accuracy: 0.640400\n",
      "Epoch 24, CIFAR-10 Batch 2:  Loss:     1.7092 Validation Accuracy: 0.653000\n",
      "Epoch 24, CIFAR-10 Batch 3:  Loss:     1.7725 Validation Accuracy: 0.653400\n",
      "Epoch 24, CIFAR-10 Batch 4:  Loss:     1.8744 Validation Accuracy: 0.646600\n",
      "Epoch 24, CIFAR-10 Batch 5:  Loss:     1.8818 Validation Accuracy: 0.661600\n",
      "Epoch 25, CIFAR-10 Batch 1:  Loss:     1.8937 Validation Accuracy: 0.655600\n",
      "Epoch 25, CIFAR-10 Batch 2:  Loss:     1.6906 Validation Accuracy: 0.659800\n",
      "Epoch 25, CIFAR-10 Batch 3:  Loss:     1.9218 Validation Accuracy: 0.640200\n",
      "Epoch 25, CIFAR-10 Batch 4:  Loss:     1.8197 Validation Accuracy: 0.652400\n",
      "Epoch 25, CIFAR-10 Batch 5:  Loss:     2.0058 Validation Accuracy: 0.649200\n",
      "Epoch 26, CIFAR-10 Batch 1:  Loss:     1.9785 Validation Accuracy: 0.642400\n",
      "Epoch 26, CIFAR-10 Batch 2:  Loss:     1.7688 Validation Accuracy: 0.659200\n",
      "Epoch 26, CIFAR-10 Batch 3:  Loss:     1.8771 Validation Accuracy: 0.652800\n",
      "Epoch 26, CIFAR-10 Batch 4:  Loss:     2.0424 Validation Accuracy: 0.637000\n",
      "Epoch 26, CIFAR-10 Batch 5:  Loss:     2.1618 Validation Accuracy: 0.644400\n",
      "Epoch 27, CIFAR-10 Batch 1:  Loss:     2.0781 Validation Accuracy: 0.646400\n",
      "Epoch 27, CIFAR-10 Batch 2:  Loss:     1.9189 Validation Accuracy: 0.649400\n",
      "Epoch 27, CIFAR-10 Batch 3:  Loss:     1.9000 Validation Accuracy: 0.663800\n",
      "Epoch 27, CIFAR-10 Batch 4:  Loss:     2.0840 Validation Accuracy: 0.643400\n",
      "Epoch 27, CIFAR-10 Batch 5:  Loss:     2.2043 Validation Accuracy: 0.652800\n",
      "Epoch 28, CIFAR-10 Batch 1:  Loss:     1.9694 Validation Accuracy: 0.663000\n",
      "Epoch 28, CIFAR-10 Batch 2:  Loss:     1.8827 Validation Accuracy: 0.665400\n",
      "Epoch 28, CIFAR-10 Batch 3:  Loss:     1.9725 Validation Accuracy: 0.659200\n",
      "Epoch 28, CIFAR-10 Batch 4:  Loss:     2.2781 Validation Accuracy: 0.630000\n",
      "Epoch 28, CIFAR-10 Batch 5:  Loss:     2.1931 Validation Accuracy: 0.648600\n",
      "Epoch 29, CIFAR-10 Batch 1:  Loss:     2.0282 Validation Accuracy: 0.655000\n",
      "Epoch 29, CIFAR-10 Batch 2:  Loss:     1.9907 Validation Accuracy: 0.663400\n",
      "Epoch 29, CIFAR-10 Batch 3:  Loss:     2.0202 Validation Accuracy: 0.656600\n",
      "Epoch 29, CIFAR-10 Batch 4:  Loss:     2.3301 Validation Accuracy: 0.631600\n",
      "Epoch 29, CIFAR-10 Batch 5:  Loss:     2.2136 Validation Accuracy: 0.646600\n",
      "Epoch 30, CIFAR-10 Batch 1:  Loss:     2.0190 Validation Accuracy: 0.658800\n",
      "Epoch 30, CIFAR-10 Batch 2:  Loss:     2.1072 Validation Accuracy: 0.656000\n",
      "Epoch 30, CIFAR-10 Batch 3:  Loss:     2.0147 Validation Accuracy: 0.661600\n",
      "Epoch 30, CIFAR-10 Batch 4:  Loss:     2.1953 Validation Accuracy: 0.653200\n",
      "Epoch 30, CIFAR-10 Batch 5:  Loss:     2.1944 Validation Accuracy: 0.650800\n",
      "Epoch 31, CIFAR-10 Batch 1:  Loss:     2.0276 Validation Accuracy: 0.653800\n",
      "Epoch 31, CIFAR-10 Batch 2:  Loss:     2.0050 Validation Accuracy: 0.662000\n",
      "Epoch 31, CIFAR-10 Batch 3:  Loss:     2.0805 Validation Accuracy: 0.654800\n",
      "Epoch 31, CIFAR-10 Batch 4:  Loss:     2.1648 Validation Accuracy: 0.664200\n",
      "Epoch 31, CIFAR-10 Batch 5:  Loss:     2.2018 Validation Accuracy: 0.653600\n",
      "Epoch 32, CIFAR-10 Batch 1:  Loss:     2.1870 Validation Accuracy: 0.653600\n",
      "Epoch 32, CIFAR-10 Batch 2:  Loss:     2.1730 Validation Accuracy: 0.654600\n",
      "Epoch 32, CIFAR-10 Batch 3:  Loss:     2.1745 Validation Accuracy: 0.655400\n",
      "Epoch 32, CIFAR-10 Batch 4:  Loss:     2.1335 Validation Accuracy: 0.663600\n",
      "Epoch 32, CIFAR-10 Batch 5:  Loss:     2.2857 Validation Accuracy: 0.659400\n",
      "Epoch 33, CIFAR-10 Batch 1:  Loss:     2.1886 Validation Accuracy: 0.664800\n",
      "Epoch 33, CIFAR-10 Batch 2:  Loss:     2.3599 Validation Accuracy: 0.635800\n",
      "Epoch 33, CIFAR-10 Batch 3:  Loss:     2.1913 Validation Accuracy: 0.662000\n",
      "Epoch 33, CIFAR-10 Batch 4:  Loss:     2.3116 Validation Accuracy: 0.666200\n",
      "Epoch 33, CIFAR-10 Batch 5:  Loss:     2.4042 Validation Accuracy: 0.650800\n",
      "Epoch 34, CIFAR-10 Batch 1:  Loss:     2.3799 Validation Accuracy: 0.660000\n",
      "Epoch 34, CIFAR-10 Batch 2:  Loss:     2.4974 Validation Accuracy: 0.635800\n",
      "Epoch 34, CIFAR-10 Batch 3:  Loss:     2.2989 Validation Accuracy: 0.654000\n",
      "Epoch 34, CIFAR-10 Batch 4:  Loss:     2.2947 Validation Accuracy: 0.665000\n",
      "Epoch 34, CIFAR-10 Batch 5:  Loss:     2.5643 Validation Accuracy: 0.646600\n",
      "Epoch 35, CIFAR-10 Batch 1:  Loss:     2.5984 Validation Accuracy: 0.639600\n",
      "Epoch 35, CIFAR-10 Batch 2:  Loss:     2.3430 Validation Accuracy: 0.652400\n",
      "Epoch 35, CIFAR-10 Batch 3:  Loss:     2.2577 Validation Accuracy: 0.662800\n",
      "Epoch 35, CIFAR-10 Batch 4:  Loss:     2.2925 Validation Accuracy: 0.663000\n",
      "Epoch 35, CIFAR-10 Batch 5:  Loss:     2.4469 Validation Accuracy: 0.661600\n",
      "Epoch 36, CIFAR-10 Batch 1:  Loss:     2.3665 Validation Accuracy: 0.654600\n",
      "Epoch 36, CIFAR-10 Batch 2:  Loss:     2.3603 Validation Accuracy: 0.643200\n",
      "Epoch 36, CIFAR-10 Batch 3:  Loss:     2.3291 Validation Accuracy: 0.668400\n",
      "Epoch 36, CIFAR-10 Batch 4:  Loss:     2.3486 Validation Accuracy: 0.659400\n",
      "Epoch 36, CIFAR-10 Batch 5:  Loss:     2.4837 Validation Accuracy: 0.648800\n",
      "Epoch 37, CIFAR-10 Batch 1:  Loss:     2.2490 Validation Accuracy: 0.655200\n",
      "Epoch 37, CIFAR-10 Batch 2:  Loss:     2.2644 Validation Accuracy: 0.652800\n",
      "Epoch 37, CIFAR-10 Batch 3:  Loss:     2.3491 Validation Accuracy: 0.668000\n",
      "Epoch 37, CIFAR-10 Batch 4:  Loss:     2.3102 Validation Accuracy: 0.663600\n",
      "Epoch 37, CIFAR-10 Batch 5:  Loss:     2.4621 Validation Accuracy: 0.659400\n",
      "Epoch 38, CIFAR-10 Batch 1:  Loss:     2.4700 Validation Accuracy: 0.651200\n",
      "Epoch 38, CIFAR-10 Batch 2:  Loss:     2.2931 Validation Accuracy: 0.656600\n",
      "Epoch 38, CIFAR-10 Batch 3:  Loss:     2.2832 Validation Accuracy: 0.662000\n",
      "Epoch 38, CIFAR-10 Batch 4:  Loss:     2.4437 Validation Accuracy: 0.652200\n",
      "Epoch 38, CIFAR-10 Batch 5:  Loss:     2.3971 Validation Accuracy: 0.662800\n",
      "Epoch 39, CIFAR-10 Batch 1:  Loss:     2.6420 Validation Accuracy: 0.642400\n",
      "Epoch 39, CIFAR-10 Batch 2:  Loss:     2.5254 Validation Accuracy: 0.658000\n",
      "Epoch 39, CIFAR-10 Batch 3:  Loss:     2.4795 Validation Accuracy: 0.661200\n",
      "Epoch 39, CIFAR-10 Batch 4:  Loss:     2.3491 Validation Accuracy: 0.662400\n",
      "Epoch 39, CIFAR-10 Batch 5:  Loss:     2.5571 Validation Accuracy: 0.658400\n",
      "Epoch 40, CIFAR-10 Batch 1:  Loss:     2.4768 Validation Accuracy: 0.667600\n",
      "Epoch 40, CIFAR-10 Batch 2:  Loss:     2.5479 Validation Accuracy: 0.659800\n",
      "Epoch 40, CIFAR-10 Batch 3:  Loss:     2.3763 Validation Accuracy: 0.669200\n",
      "Epoch 40, CIFAR-10 Batch 4:  Loss:     2.5028 Validation Accuracy: 0.664000\n",
      "Epoch 40, CIFAR-10 Batch 5:  Loss:     2.5618 Validation Accuracy: 0.649800\n",
      "Epoch 41, CIFAR-10 Batch 1:  Loss:     2.7137 Validation Accuracy: 0.646200\n",
      "Epoch 41, CIFAR-10 Batch 2:  Loss:     2.4016 Validation Accuracy: 0.664000\n",
      "Epoch 41, CIFAR-10 Batch 3:  Loss:     2.4315 Validation Accuracy: 0.670800\n",
      "Epoch 41, CIFAR-10 Batch 4:  Loss:     2.4832 Validation Accuracy: 0.667400\n",
      "Epoch 41, CIFAR-10 Batch 5:  Loss:     2.8092 Validation Accuracy: 0.641200\n",
      "Epoch 42, CIFAR-10 Batch 1:  Loss:     2.6313 Validation Accuracy: 0.652000\n",
      "Epoch 42, CIFAR-10 Batch 2:  Loss:     2.4120 Validation Accuracy: 0.664400\n",
      "Epoch 42, CIFAR-10 Batch 3:  Loss:     2.5090 Validation Accuracy: 0.671200\n",
      "Epoch 42, CIFAR-10 Batch 4:  Loss:     2.6039 Validation Accuracy: 0.650800\n",
      "Epoch 42, CIFAR-10 Batch 5:  Loss:     2.5727 Validation Accuracy: 0.664200\n",
      "Epoch 43, CIFAR-10 Batch 1:  Loss:     2.5751 Validation Accuracy: 0.662400\n",
      "Epoch 43, CIFAR-10 Batch 2:  Loss:     2.5084 Validation Accuracy: 0.664800\n",
      "Epoch 43, CIFAR-10 Batch 3:  Loss:     2.5819 Validation Accuracy: 0.655200\n",
      "Epoch 43, CIFAR-10 Batch 4:  Loss:     2.5561 Validation Accuracy: 0.654800\n",
      "Epoch 43, CIFAR-10 Batch 5:  Loss:     2.8008 Validation Accuracy: 0.653200\n",
      "Epoch 44, CIFAR-10 Batch 1:  Loss:     2.6466 Validation Accuracy: 0.662800\n",
      "Epoch 44, CIFAR-10 Batch 2:  Loss:     2.6579 Validation Accuracy: 0.660200\n",
      "Epoch 44, CIFAR-10 Batch 3:  Loss:     2.5565 Validation Accuracy: 0.662800\n",
      "Epoch 44, CIFAR-10 Batch 4:  Loss:     2.7364 Validation Accuracy: 0.658000\n",
      "Epoch 44, CIFAR-10 Batch 5:  Loss:     2.6798 Validation Accuracy: 0.654800\n",
      "Epoch 45, CIFAR-10 Batch 1:  Loss:     2.5869 Validation Accuracy: 0.663800\n",
      "Epoch 45, CIFAR-10 Batch 2:  Loss:     2.6896 Validation Accuracy: 0.666400\n",
      "Epoch 45, CIFAR-10 Batch 3:  Loss:     2.6745 Validation Accuracy: 0.661200\n",
      "Epoch 45, CIFAR-10 Batch 4:  Loss:     2.5940 Validation Accuracy: 0.659000\n",
      "Epoch 45, CIFAR-10 Batch 5:  Loss:     2.7350 Validation Accuracy: 0.656600\n",
      "Epoch 46, CIFAR-10 Batch 1:  Loss:     2.7272 Validation Accuracy: 0.665000\n",
      "Epoch 46, CIFAR-10 Batch 2:  Loss:     2.7539 Validation Accuracy: 0.666600\n",
      "Epoch 46, CIFAR-10 Batch 3:  Loss:     2.6525 Validation Accuracy: 0.666200\n",
      "Epoch 46, CIFAR-10 Batch 4:  Loss:     2.5551 Validation Accuracy: 0.664400\n",
      "Epoch 46, CIFAR-10 Batch 5:  Loss:     2.6936 Validation Accuracy: 0.659000\n",
      "Epoch 47, CIFAR-10 Batch 1:  Loss:     2.7330 Validation Accuracy: 0.663400\n",
      "Epoch 47, CIFAR-10 Batch 2:  Loss:     2.6693 Validation Accuracy: 0.671200\n",
      "Epoch 47, CIFAR-10 Batch 3:  Loss:     2.7992 Validation Accuracy: 0.652400\n",
      "Epoch 47, CIFAR-10 Batch 4:  Loss:     2.6865 Validation Accuracy: 0.658600\n",
      "Epoch 47, CIFAR-10 Batch 5:  Loss:     2.9376 Validation Accuracy: 0.653000\n",
      "Epoch 48, CIFAR-10 Batch 1:  Loss:     2.6797 Validation Accuracy: 0.670400\n",
      "Epoch 48, CIFAR-10 Batch 2:  Loss:     2.8669 Validation Accuracy: 0.660000\n",
      "Epoch 48, CIFAR-10 Batch 3:  Loss:     2.7645 Validation Accuracy: 0.660200\n",
      "Epoch 48, CIFAR-10 Batch 4:  Loss:     2.7294 Validation Accuracy: 0.664800\n",
      "Epoch 48, CIFAR-10 Batch 5:  Loss:     2.8857 Validation Accuracy: 0.660000\n",
      "Epoch 49, CIFAR-10 Batch 1:  Loss:     2.7303 Validation Accuracy: 0.672200\n",
      "Epoch 49, CIFAR-10 Batch 2:  Loss:     2.9093 Validation Accuracy: 0.665600\n",
      "Epoch 49, CIFAR-10 Batch 3:  Loss:     2.8915 Validation Accuracy: 0.654000\n",
      "Epoch 49, CIFAR-10 Batch 4:  Loss:     2.8573 Validation Accuracy: 0.650600\n",
      "Epoch 49, CIFAR-10 Batch 5:  Loss:     2.9880 Validation Accuracy: 0.647000\n",
      "Epoch 50, CIFAR-10 Batch 1:  Loss:     2.9594 Validation Accuracy: 0.651200\n",
      "Epoch 50, CIFAR-10 Batch 2:  Loss:     3.1068 Validation Accuracy: 0.660800\n",
      "Epoch 50, CIFAR-10 Batch 3:  Loss:     2.8510 Validation Accuracy: 0.655000\n",
      "Epoch 50, CIFAR-10 Batch 4:  Loss:     2.7723 Validation Accuracy: 0.659400\n",
      "Epoch 50, CIFAR-10 Batch 5:  Loss:     2.9452 Validation Accuracy: 0.651800\n",
      "Epoch 51, CIFAR-10 Batch 1:  Loss:     2.7302 Validation Accuracy: 0.671400\n",
      "Epoch 51, CIFAR-10 Batch 2:  Loss:     2.9305 Validation Accuracy: 0.660200\n",
      "Epoch 51, CIFAR-10 Batch 3:  Loss:     2.7941 Validation Accuracy: 0.656000\n",
      "Epoch 51, CIFAR-10 Batch 4:  Loss:     2.9361 Validation Accuracy: 0.636400\n",
      "Epoch 51, CIFAR-10 Batch 5:  Loss:     2.9910 Validation Accuracy: 0.650000\n",
      "Epoch 52, CIFAR-10 Batch 1:  Loss:     2.7431 Validation Accuracy: 0.662400\n",
      "Epoch 52, CIFAR-10 Batch 2:  Loss:     2.9393 Validation Accuracy: 0.663600\n",
      "Epoch 52, CIFAR-10 Batch 3:  Loss:     2.6550 Validation Accuracy: 0.668000\n",
      "Epoch 52, CIFAR-10 Batch 4:  Loss:     2.8660 Validation Accuracy: 0.666200\n",
      "Epoch 52, CIFAR-10 Batch 5:  Loss:     2.8893 Validation Accuracy: 0.655400\n",
      "Epoch 53, CIFAR-10 Batch 1:  Loss:     2.6200 Validation Accuracy: 0.674800\n",
      "Epoch 53, CIFAR-10 Batch 2:  Loss:     2.9225 Validation Accuracy: 0.659400\n",
      "Epoch 53, CIFAR-10 Batch 3:  Loss:     2.6860 Validation Accuracy: 0.672800\n",
      "Epoch 53, CIFAR-10 Batch 4:  Loss:     2.9434 Validation Accuracy: 0.663400\n",
      "Epoch 53, CIFAR-10 Batch 5:  Loss:     2.9732 Validation Accuracy: 0.656600\n",
      "Epoch 54, CIFAR-10 Batch 1:  Loss:     2.8411 Validation Accuracy: 0.670600\n",
      "Epoch 54, CIFAR-10 Batch 2:  Loss:     2.8522 Validation Accuracy: 0.657200\n",
      "Epoch 54, CIFAR-10 Batch 3:  Loss:     2.8904 Validation Accuracy: 0.657200\n",
      "Epoch 54, CIFAR-10 Batch 4:  Loss:     2.9270 Validation Accuracy: 0.657000\n",
      "Epoch 54, CIFAR-10 Batch 5:  Loss:     2.9973 Validation Accuracy: 0.646800\n",
      "Epoch 55, CIFAR-10 Batch 1:  Loss:     2.9224 Validation Accuracy: 0.672800\n",
      "Epoch 55, CIFAR-10 Batch 2:  Loss:     2.9168 Validation Accuracy: 0.666200\n",
      "Epoch 55, CIFAR-10 Batch 3:  Loss:     2.7214 Validation Accuracy: 0.668200\n",
      "Epoch 55, CIFAR-10 Batch 4:  Loss:     2.8528 Validation Accuracy: 0.653400\n",
      "Epoch 55, CIFAR-10 Batch 5:  Loss:     2.9433 Validation Accuracy: 0.660800\n",
      "Epoch 56, CIFAR-10 Batch 1:  Loss:     3.0369 Validation Accuracy: 0.673800\n",
      "Epoch 56, CIFAR-10 Batch 2:  Loss:     3.0486 Validation Accuracy: 0.657200\n",
      "Epoch 56, CIFAR-10 Batch 3:  Loss:     2.8622 Validation Accuracy: 0.665800\n",
      "Epoch 56, CIFAR-10 Batch 4:  Loss:     2.9411 Validation Accuracy: 0.657400\n",
      "Epoch 56, CIFAR-10 Batch 5:  Loss:     2.8441 Validation Accuracy: 0.665600\n",
      "Epoch 57, CIFAR-10 Batch 1:  Loss:     2.9858 Validation Accuracy: 0.667600\n",
      "Epoch 57, CIFAR-10 Batch 2:  Loss:     2.8920 Validation Accuracy: 0.658400\n",
      "Epoch 57, CIFAR-10 Batch 3:  Loss:     2.8757 Validation Accuracy: 0.652600\n",
      "Epoch 57, CIFAR-10 Batch 4:  Loss:     3.0774 Validation Accuracy: 0.657400\n",
      "Epoch 57, CIFAR-10 Batch 5:  Loss:     2.8773 Validation Accuracy: 0.667000\n",
      "Epoch 58, CIFAR-10 Batch 1:  Loss:     2.9626 Validation Accuracy: 0.663600\n",
      "Epoch 58, CIFAR-10 Batch 2:  Loss:     3.0485 Validation Accuracy: 0.662200\n",
      "Epoch 58, CIFAR-10 Batch 3:  Loss:     3.0633 Validation Accuracy: 0.656600\n",
      "Epoch 58, CIFAR-10 Batch 4:  Loss:     3.0329 Validation Accuracy: 0.654600\n",
      "Epoch 58, CIFAR-10 Batch 5:  Loss:     2.9582 Validation Accuracy: 0.663000\n",
      "Epoch 59, CIFAR-10 Batch 1:  Loss:     2.9781 Validation Accuracy: 0.663800\n",
      "Epoch 59, CIFAR-10 Batch 2:  Loss:     3.0042 Validation Accuracy: 0.670200\n",
      "Epoch 59, CIFAR-10 Batch 3:  Loss:     2.9790 Validation Accuracy: 0.651200\n",
      "Epoch 59, CIFAR-10 Batch 4:  Loss:     2.9076 Validation Accuracy: 0.657400\n",
      "Epoch 59, CIFAR-10 Batch 5:  Loss:     3.0568 Validation Accuracy: 0.655800\n",
      "Epoch 60, CIFAR-10 Batch 1:  Loss:     2.9538 Validation Accuracy: 0.666600\n",
      "Epoch 60, CIFAR-10 Batch 2:  Loss:     2.9939 Validation Accuracy: 0.659600\n",
      "Epoch 60, CIFAR-10 Batch 3:  Loss:     3.2029 Validation Accuracy: 0.648800\n",
      "Epoch 60, CIFAR-10 Batch 4:  Loss:     3.0693 Validation Accuracy: 0.653400\n",
      "Epoch 60, CIFAR-10 Batch 5:  Loss:     3.0450 Validation Accuracy: 0.660800\n",
      "Epoch 61, CIFAR-10 Batch 1:  Loss:     2.9735 Validation Accuracy: 0.672000\n",
      "Epoch 61, CIFAR-10 Batch 2:  Loss:     2.9162 Validation Accuracy: 0.668800\n",
      "Epoch 61, CIFAR-10 Batch 3:  Loss:     3.1523 Validation Accuracy: 0.656200\n",
      "Epoch 61, CIFAR-10 Batch 4:  Loss:     3.0937 Validation Accuracy: 0.658800\n",
      "Epoch 61, CIFAR-10 Batch 5:  Loss:     2.9874 Validation Accuracy: 0.666600\n",
      "Epoch 62, CIFAR-10 Batch 1:  Loss:     2.9094 Validation Accuracy: 0.669000\n",
      "Epoch 62, CIFAR-10 Batch 2:  Loss:     2.9971 Validation Accuracy: 0.659800\n",
      "Epoch 62, CIFAR-10 Batch 3:  Loss:     2.9047 Validation Accuracy: 0.655800\n",
      "Epoch 62, CIFAR-10 Batch 4:  Loss:     2.9947 Validation Accuracy: 0.657800\n",
      "Epoch 62, CIFAR-10 Batch 5:  Loss:     3.0090 Validation Accuracy: 0.660400\n",
      "Epoch 63, CIFAR-10 Batch 1:  Loss:     2.9240 Validation Accuracy: 0.668000\n",
      "Epoch 63, CIFAR-10 Batch 2:  Loss:     2.8939 Validation Accuracy: 0.674600\n",
      "Epoch 63, CIFAR-10 Batch 3:  Loss:     2.9322 Validation Accuracy: 0.660800\n",
      "Epoch 63, CIFAR-10 Batch 4:  Loss:     3.0603 Validation Accuracy: 0.650600\n",
      "Epoch 63, CIFAR-10 Batch 5:  Loss:     3.0008 Validation Accuracy: 0.660000\n",
      "Epoch 64, CIFAR-10 Batch 1:  Loss:     2.9664 Validation Accuracy: 0.669600\n",
      "Epoch 64, CIFAR-10 Batch 2:  Loss:     2.8117 Validation Accuracy: 0.665800\n",
      "Epoch 64, CIFAR-10 Batch 3:  Loss:     3.0254 Validation Accuracy: 0.664600\n",
      "Epoch 64, CIFAR-10 Batch 4:  Loss:     2.9981 Validation Accuracy: 0.662400\n",
      "Epoch 64, CIFAR-10 Batch 5:  Loss:     3.0683 Validation Accuracy: 0.660000\n",
      "Epoch 65, CIFAR-10 Batch 1:  Loss:     2.9741 Validation Accuracy: 0.666000\n",
      "Epoch 65, CIFAR-10 Batch 2:  Loss:     3.0756 Validation Accuracy: 0.665600\n",
      "Epoch 65, CIFAR-10 Batch 3:  Loss:     3.1262 Validation Accuracy: 0.654800\n",
      "Epoch 65, CIFAR-10 Batch 4:  Loss:     3.1228 Validation Accuracy: 0.655200\n",
      "Epoch 65, CIFAR-10 Batch 5:  Loss:     2.9411 Validation Accuracy: 0.662800\n",
      "Epoch 66, CIFAR-10 Batch 1:  Loss:     3.0846 Validation Accuracy: 0.666600\n",
      "Epoch 66, CIFAR-10 Batch 2:  Loss:     2.9064 Validation Accuracy: 0.671600\n",
      "Epoch 66, CIFAR-10 Batch 3:  Loss:     3.1326 Validation Accuracy: 0.657000\n",
      "Epoch 66, CIFAR-10 Batch 4:  Loss:     2.9543 Validation Accuracy: 0.666600\n",
      "Epoch 66, CIFAR-10 Batch 5:  Loss:     3.1795 Validation Accuracy: 0.667400\n",
      "Epoch 67, CIFAR-10 Batch 1:  Loss:     3.2163 Validation Accuracy: 0.665400\n",
      "Epoch 67, CIFAR-10 Batch 2:  Loss:     3.0748 Validation Accuracy: 0.669400\n",
      "Epoch 67, CIFAR-10 Batch 3:  Loss:     3.0063 Validation Accuracy: 0.668400\n",
      "Epoch 67, CIFAR-10 Batch 4:  Loss:     3.0193 Validation Accuracy: 0.657600\n",
      "Epoch 67, CIFAR-10 Batch 5:  Loss:     3.1468 Validation Accuracy: 0.661200\n",
      "Epoch 68, CIFAR-10 Batch 1:  Loss:     3.1198 Validation Accuracy: 0.664200\n",
      "Epoch 68, CIFAR-10 Batch 2:  Loss:     2.9216 Validation Accuracy: 0.667800\n",
      "Epoch 68, CIFAR-10 Batch 3:  Loss:     3.0664 Validation Accuracy: 0.669200\n",
      "Epoch 68, CIFAR-10 Batch 4:  Loss:     2.9743 Validation Accuracy: 0.659600\n",
      "Epoch 68, CIFAR-10 Batch 5:  Loss:     3.0932 Validation Accuracy: 0.662800\n",
      "Epoch 69, CIFAR-10 Batch 1:  Loss:     3.0283 Validation Accuracy: 0.665800\n",
      "Epoch 69, CIFAR-10 Batch 2:  Loss:     3.1875 Validation Accuracy: 0.656600\n",
      "Epoch 69, CIFAR-10 Batch 3:  Loss:     3.0620 Validation Accuracy: 0.666400\n",
      "Epoch 69, CIFAR-10 Batch 4:  Loss:     2.9224 Validation Accuracy: 0.680000\n",
      "Epoch 69, CIFAR-10 Batch 5:  Loss:     3.2041 Validation Accuracy: 0.660000\n",
      "Epoch 70, CIFAR-10 Batch 1:  Loss:     3.0927 Validation Accuracy: 0.668200\n",
      "Epoch 70, CIFAR-10 Batch 2:  Loss:     3.0795 Validation Accuracy: 0.667400\n",
      "Epoch 70, CIFAR-10 Batch 3:  Loss:     3.0782 Validation Accuracy: 0.663200\n",
      "Epoch 70, CIFAR-10 Batch 4:  Loss:     3.0387 Validation Accuracy: 0.660200\n",
      "Epoch 70, CIFAR-10 Batch 5:  Loss:     3.2831 Validation Accuracy: 0.655400\n",
      "Epoch 71, CIFAR-10 Batch 1:  Loss:     3.1593 Validation Accuracy: 0.664200\n",
      "Epoch 71, CIFAR-10 Batch 2:  Loss:     3.1523 Validation Accuracy: 0.657600\n",
      "Epoch 71, CIFAR-10 Batch 3:  Loss:     2.9708 Validation Accuracy: 0.666000\n",
      "Epoch 71, CIFAR-10 Batch 4:  Loss:     2.9060 Validation Accuracy: 0.665000\n",
      "Epoch 71, CIFAR-10 Batch 5:  Loss:     3.0284 Validation Accuracy: 0.662800\n",
      "Epoch 72, CIFAR-10 Batch 1:  Loss:     3.0616 Validation Accuracy: 0.657800\n",
      "Epoch 72, CIFAR-10 Batch 2:  Loss:     3.0813 Validation Accuracy: 0.656200\n",
      "Epoch 72, CIFAR-10 Batch 3:  Loss:     3.0796 Validation Accuracy: 0.668000\n",
      "Epoch 72, CIFAR-10 Batch 4:  Loss:     3.2913 Validation Accuracy: 0.659000\n",
      "Epoch 72, CIFAR-10 Batch 5:  Loss:     3.1424 Validation Accuracy: 0.665400\n",
      "Epoch 73, CIFAR-10 Batch 1:  Loss:     3.2347 Validation Accuracy: 0.664000\n",
      "Epoch 73, CIFAR-10 Batch 2:  Loss:     3.3237 Validation Accuracy: 0.658000\n",
      "Epoch 73, CIFAR-10 Batch 3:  Loss:     3.2233 Validation Accuracy: 0.654400\n",
      "Epoch 73, CIFAR-10 Batch 4:  Loss:     3.2461 Validation Accuracy: 0.653800\n",
      "Epoch 73, CIFAR-10 Batch 5:  Loss:     3.2182 Validation Accuracy: 0.663000\n",
      "Epoch 74, CIFAR-10 Batch 1:  Loss:     3.2207 Validation Accuracy: 0.666200\n",
      "Epoch 74, CIFAR-10 Batch 2:  Loss:     3.2190 Validation Accuracy: 0.675400\n",
      "Epoch 74, CIFAR-10 Batch 3:  Loss:     3.2188 Validation Accuracy: 0.667600\n",
      "Epoch 74, CIFAR-10 Batch 4:  Loss:     3.2113 Validation Accuracy: 0.669600\n",
      "Epoch 74, CIFAR-10 Batch 5:  Loss:     3.5035 Validation Accuracy: 0.662000\n",
      "Epoch 75, CIFAR-10 Batch 1:  Loss:     3.2802 Validation Accuracy: 0.663200\n",
      "Epoch 75, CIFAR-10 Batch 2:  Loss:     3.2202 Validation Accuracy: 0.667800\n",
      "Epoch 75, CIFAR-10 Batch 3:  Loss:     3.2104 Validation Accuracy: 0.671800\n",
      "Epoch 75, CIFAR-10 Batch 4:  Loss:     3.2206 Validation Accuracy: 0.658800\n",
      "Epoch 75, CIFAR-10 Batch 5:  Loss:     3.2077 Validation Accuracy: 0.664400\n"
     ]
    }
   ],
   "source": [
    "\n",
    "save_model_path = './image_classification'\n",
    "\n",
    "print('Training...')\n",
    "with tf.Session() as sess:\n",
    "    # Initializing the variables\n",
    "    sess.run(tf.global_variables_initializer())\n",
    "    \n",
    "    # Training cycle\n",
    "    for epoch in range(epochs):\n",
    "        # Loop over all batches\n",
    "        n_batches = 5\n",
    "        for batch_i in range(1, n_batches + 1):\n",
    "            for batch_features, batch_labels in helper.load_preprocess_training_batch(batch_i, batch_size):\n",
    "                train_neural_network(sess, optimizer, keep_probability, batch_features, batch_labels)\n",
    "            print('Epoch {:>2}, CIFAR-10 Batch {}:  '.format(epoch + 1, batch_i), end='')\n",
    "            print_stats(sess, batch_features, batch_labels, cost, accuracy)\n",
    "            \n",
    "    # Save Model\n",
    "    saver = tf.train.Saver()\n",
    "    save_path = saver.save(sess, save_model_path)"
   ]
  },
  {
   "cell_type": "markdown",
   "metadata": {
    "deletable": true,
    "editable": true
   },
   "source": [
    "# Checkpoint\n",
    "The model has been saved to disk.\n",
    "## Test Model\n",
    "Lets Test the model against the test dataset.  This will be our final accuracy. we should have an accuracy greater than 50%. If we don't, we'll keep tweaking the model architecture and parameters."
   ]
  },
  {
   "cell_type": "code",
   "execution_count": 22,
   "metadata": {
    "collapsed": false,
    "deletable": true,
    "editable": true
   },
   "outputs": [
    {
     "name": "stdout",
     "output_type": "stream",
     "text": [
      "Testing Accuracy: 0.6693359375\n",
      "\n"
     ]
    },
    {
     "data": {
      "image/png": "[encoded data removed]",
      "text/plain": [
       "<matplotlib.figure.Figure at 0x7faf602c1f28>"
      ]
     },
     "metadata": {
      "image/png": {
       "height": 319,
       "width": 349
      }
     },
     "output_type": "display_data"
    }
   ],
   "source": [
    "\n",
    "%matplotlib inline\n",
    "%config InlineBackend.figure_format = 'retina'\n",
    "\n",
    "import tensorflow as tf\n",
    "import pickle\n",
    "import helper\n",
    "import random\n",
    "\n",
    "# Set batch size if not already set\n",
    "try:\n",
    "    if batch_size:\n",
    "        pass\n",
    "except NameError:\n",
    "    batch_size = 64\n",
    "\n",
    "save_model_path = './image_classification'\n",
    "n_samples = 4\n",
    "top_n_predictions = 3\n",
    "\n",
    "def test_model():\n",
    "    \"\"\"\n",
    "    Test the saved model against the test dataset\n",
    "    \"\"\"\n",
    "\n",
    "    test_features, test_labels = pickle.load(open('preprocess_test.p', mode='rb'))\n",
    "    loaded_graph = tf.Graph()\n",
    "\n",
    "    with tf.Session(graph=loaded_graph) as sess:\n",
    "        # Load model\n",
    "        loader = tf.train.import_meta_graph(save_model_path + '.meta')\n",
    "        loader.restore(sess, save_model_path)\n",
    "\n",
    "        # Get Tensors from loaded model\n",
    "        loaded_x = loaded_graph.get_tensor_by_name('x:0')\n",
    "        loaded_y = loaded_graph.get_tensor_by_name('y:0')\n",
    "        loaded_keep_prob = loaded_graph.get_tensor_by_name('keep_prob:0')\n",
    "        loaded_logits = loaded_graph.get_tensor_by_name('logits:0')\n",
    "        loaded_acc = loaded_graph.get_tensor_by_name('accuracy:0')\n",
    "        \n",
    "        # Get accuracy in batches for memory limitations\n",
    "        test_batch_acc_total = 0\n",
    "        test_batch_count = 0\n",
    "        \n",
    "        for test_feature_batch, test_label_batch in helper.batch_features_labels(test_features, test_labels, batch_size):\n",
    "            test_batch_acc_total += sess.run(\n",
    "                loaded_acc,\n",
    "                feed_dict={loaded_x: test_feature_batch, loaded_y: test_label_batch, loaded_keep_prob: 1.0})\n",
    "            test_batch_count += 1\n",
    "\n",
    "        print('Testing Accuracy: {}\\n'.format(test_batch_acc_total/test_batch_count))\n",
    "\n",
    "        # Print Random Samples\n",
    "        random_test_features, random_test_labels = tuple(zip(*random.sample(list(zip(test_features, test_labels)), n_samples)))\n",
    "        random_test_predictions = sess.run(\n",
    "            tf.nn.top_k(tf.nn.softmax(loaded_logits), top_n_predictions),\n",
    "            feed_dict={loaded_x: random_test_features, loaded_y: random_test_labels, loaded_keep_prob: 1.0})\n",
    "        helper.display_image_predictions(random_test_features, random_test_labels, random_test_predictions)\n",
    "\n",
    "\n",
    "test_model()"
   ]
  },
  {
   "cell_type": "markdown",
   "metadata": {
    "deletable": true,
    "editable": true
   },
   "source": [
    "## Why 67% Accuracy?\n",
    "You might be wondering why we can't get an accuracy any higher. First things first, 67% isn't bad for a simple CNN.  Pure guessing would get you 10% accuracy. However, you might notice people are getting scores [well above 80%](http://rodrigob.github.io/are_we_there_yet/build/classification_datasets_results.html#43494641522d3130).  That's because we haven't learned all there is to know about neural networks. We still need to cover a few more techniques.\n"
   ]
  },
  {
   "cell_type": "code",
   "execution_count": null,
   "metadata": {
    "collapsed": true
   },
   "outputs": [],
   "source": []
  }
 ],
 "metadata": {
  "anaconda-cloud": {},
  "kernelspec": {
   "display_name": "Python [default]",
   "language": "python",
   "name": "python3"
  },
  "language_info": {
   "codemirror_mode": {
    "name": "ipython",
    "version": 3
   },
   "file_extension": ".py",
   "mimetype": "text/x-python",
   "name": "python",
   "nbconvert_exporter": "python",
   "pygments_lexer": "ipython3",
   "version": "3.5.2"
  }
 },
 "nbformat": 4,
 "nbformat_minor": 0
}
